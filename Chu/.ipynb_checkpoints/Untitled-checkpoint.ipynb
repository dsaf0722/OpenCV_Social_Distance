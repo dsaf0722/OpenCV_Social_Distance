{
 "cells": [
  {
   "cell_type": "code",
   "execution_count": 38,
   "metadata": {},
   "outputs": [
    {
     "data": {
      "text/plain": [
       "'person'"
      ]
     },
     "execution_count": 38,
     "metadata": {},
     "output_type": "execute_result"
    }
   ],
   "source": [
    "KNOWN_WIDTH_ALL = [\n",
    "    [\"person\",19.69],\n",
    "    [\"bottle\",3],\n",
    "    [\"tvmonitor\",24],\n",
    "    [\"car\",78.74],\n",
    "    [\"unknown\",10]\n",
    "]\n",
    "KNOWN_WIDTH_ALL[0][0]"
   ]
  },
  {
   "cell_type": "code",
   "execution_count": 2,
   "metadata": {},
   "outputs": [],
   "source": [
    "focalLength=2\n",
    "perWidth=3"
   ]
  },
  {
   "cell_type": "code",
   "execution_count": 3,
   "metadata": {},
   "outputs": [],
   "source": [
    "def distance_to_camera(knownWidth, focalLength, perWidth):  \n",
    "    # compute and return the distance from the maker to the camera\n",
    "    return (knownWidth * focalLength) / perWidth \n"
   ]
  },
  {
   "cell_type": "code",
   "execution_count": 4,
   "metadata": {},
   "outputs": [],
   "source": [
    "def find_classes(x):\n",
    "    for i in KNOWN_WIDTH_ALL:\n",
    "        if x == i[0]:\n",
    "            return i[1]"
   ]
  },
  {
   "cell_type": "code",
   "execution_count": 5,
   "metadata": {},
   "outputs": [
    {
     "data": {
      "text/plain": [
       "16"
      ]
     },
     "execution_count": 5,
     "metadata": {},
     "output_type": "execute_result"
    }
   ],
   "source": [
    "find_classes('tvmoniter')"
   ]
  },
  {
   "cell_type": "code",
   "execution_count": 6,
   "metadata": {},
   "outputs": [
    {
     "data": {
      "text/plain": [
       "False"
      ]
     },
     "execution_count": 6,
     "metadata": {},
     "output_type": "execute_result"
    }
   ],
   "source": [
    "\"bottle\" in KNOWN_WIDTH_ALL"
   ]
  },
  {
   "cell_type": "code",
   "execution_count": 53,
   "metadata": {},
   "outputs": [],
   "source": [
    "def change_object(key):\n",
    "    for lst in KNOWN_WIDTH_ALL:\n",
    "        if key == ord(\"P\"):\n",
    "            lst = KNOWN_WIDTH_ALL[0]\n",
    "            return lst\n",
    "        elif key == ord(\"B\"):\n",
    "            lst = KNOWN_WIDTH_ALL[1]\n",
    "            return lst\n",
    "        elif key == ord(\"T\"):\n",
    "            lst = KNOWN_WIDTH_ALL[2]\n",
    "            return lst\n",
    "        else:\n",
    "            lst =lst\n",
    "            return lst"
   ]
  },
  {
   "cell_type": "code",
   "execution_count": 16,
   "metadata": {},
   "outputs": [
    {
     "data": {
      "text/plain": [
       "[['person', 19.69],\n",
       " ['bottle', 3],\n",
       " ['tvmonitor', 24],\n",
       " ['car', 78.74],\n",
       " ['unknown', 10]]"
      ]
     },
     "execution_count": 16,
     "metadata": {},
     "output_type": "execute_result"
    }
   ],
   "source": [
    "lst = [lst for lst in KNOWN_WIDTH_ALL ]\n",
    "lst"
   ]
  },
  {
   "cell_type": "code",
   "execution_count": 112,
   "metadata": {},
   "outputs": [],
   "source": [
    "def change_object(key):\n",
    "    lst = [lst for lst in KNOWN_WIDTH_ALL ]\n",
    "    if key == ord(\"p\"):\n",
    "        lst = KNOWN_WIDTH_ALL[0]\n",
    "        return lst\n",
    "    elif key == ord(\"b\"):\n",
    "        lst = KNOWN_WIDTH_ALL[1]\n",
    "        return lst\n",
    "    elif key == ord(\"t\"):\n",
    "        lst = KNOWN_WIDTH_ALL[2]\n",
    "        return lst\n",
    "    elif key == ord(\"c\"):\n",
    "        lst = KNOWN_WIDTH_ALL[3]\n",
    "        return lst\n",
    "    else:\n",
    "        lst = lst\n",
    "        return lst"
   ]
  },
  {
   "cell_type": "code",
   "execution_count": 50,
   "metadata": {},
   "outputs": [
    {
     "data": {
      "text/plain": [
       "[112, 98, 116, 99]"
      ]
     },
     "execution_count": 50,
     "metadata": {},
     "output_type": "execute_result"
    }
   ],
   "source": [
    "ord_list = [ord('p'),ord('b'),ord('t'),ord('c')]\n",
    "ord_list"
   ]
  },
  {
   "cell_type": "code",
   "execution_count": 108,
   "metadata": {},
   "outputs": [
    {
     "data": {
      "text/plain": [
       "98"
      ]
     },
     "execution_count": 108,
     "metadata": {},
     "output_type": "execute_result"
    }
   ],
   "source": [
    "key = random.choice(ord_list)\n",
    "key"
   ]
  },
  {
   "cell_type": "code",
   "execution_count": 119,
   "metadata": {},
   "outputs": [
    {
     "name": "stdout",
     "output_type": "stream",
     "text": [
      "['person', 19.69]\n",
      "['bottle', 3]\n",
      "['tvmonitor', 24]\n",
      "['car', 78.74]\n",
      "['bottle', 3]\n"
     ]
    }
   ],
   "source": [
    "import random\n",
    "ord_list = [ord('p'),ord('b'),ord('t'),ord('c')]\n",
    "for i in range(5):\n",
    "    key = random.choice(ord_list)\n",
    "    print(change_object(key))"
   ]
  },
  {
   "cell_type": "code",
   "execution_count": 121,
   "metadata": {},
   "outputs": [
    {
     "data": {
      "text/plain": [
       "['person', 19.69]"
      ]
     },
     "execution_count": 121,
     "metadata": {},
     "output_type": "execute_result"
    }
   ],
   "source": [
    "KNOWN_WIDTH_ALL[0]"
   ]
  },
  {
   "cell_type": "code",
   "execution_count": 120,
   "metadata": {},
   "outputs": [
    {
     "name": "stdout",
     "output_type": "stream",
     "text": [
      "1\n",
      "1\n"
     ]
    }
   ],
   "source": [
    "for i in KNOWN_WIDTH_ALL[0]:\n",
    "    print('1')"
   ]
  },
  {
   "cell_type": "code",
   "execution_count": 12,
   "metadata": {},
   "outputs": [],
   "source": [
    "def function(x):\n",
    "    if x == 1:\n",
    "        y = 1\n",
    "    elif x == 2:\n",
    "        y = 2"
   ]
  },
  {
   "cell_type": "code",
   "execution_count": 153,
   "metadata": {},
   "outputs": [],
   "source": [
    "CHANGE_KNOWN_WIDTH = [\n",
    "    [\"person\",19.69],\n",
    "    [\"bottle\",3],\n",
    "    [\"tvmonitor\",24],\n",
    "    [\"car\",78.74],\n",
    "    [\"unknown\",10]\n",
    "]\n",
    "CHANGE_KNOWN_WIDTH = change_object(key) if CHANGE_KNOWN_WIDTH == 0 else lst"
   ]
  },
  {
   "cell_type": "code",
   "execution_count": 160,
   "metadata": {},
   "outputs": [
    {
     "data": {
      "text/plain": [
       "0"
      ]
     },
     "execution_count": 160,
     "metadata": {},
     "output_type": "execute_result"
    }
   ],
   "source": [
    "x = 2\n",
    "y = 1\n",
    "x = y if x == y else 0\n",
    "x"
   ]
  },
  {
   "cell_type": "code",
   "execution_count": 12,
   "metadata": {},
   "outputs": [
    {
     "name": "stdout",
     "output_type": "stream",
     "text": [
      "3.141592653589793\n"
     ]
    }
   ],
   "source": [
    "import math\n",
    "print(math.pi)"
   ]
  },
  {
   "cell_type": "code",
   "execution_count": 163,
   "metadata": {},
   "outputs": [
    {
     "data": {
      "text/plain": [
       "[['bottle', 3]]"
      ]
     },
     "execution_count": 163,
     "metadata": {},
     "output_type": "execute_result"
    }
   ],
   "source": [
    "[KNOWN_WIDTH_ALL[1]]"
   ]
  },
  {
   "cell_type": "code",
   "execution_count": 11,
   "metadata": {},
   "outputs": [
    {
     "data": {
      "text/plain": [
       "1.0471975511965979"
      ]
     },
     "execution_count": 11,
     "metadata": {},
     "output_type": "execute_result"
    }
   ],
   "source": [
    "math.acos(0.5)"
   ]
  },
  {
   "cell_type": "code",
   "execution_count": null,
   "metadata": {},
   "outputs": [],
   "source": [
    "boxes = []\n",
    "for lst in KNOWN_WIDTH_ALL:\n",
    "    boxes.append(CLASSES[idx],endX-startX,endY-startY)"
   ]
  },
  {
   "cell_type": "code",
   "execution_count": 4,
   "metadata": {},
   "outputs": [
    {
     "name": "stdout",
     "output_type": "stream",
     "text": [
      "0.8775825618903726 0.5000000000000001\n"
     ]
    }
   ],
   "source": [
    "import math \n",
    "a=2\n",
    "b=1\n",
    "c=3**0.5\n",
    "# math.cos\n",
    "# c = a+b - 2*a**0.5*b**0.5*math.cos(C)\n",
    "cosC = math.cos((a**2+b**2-c**2)/(2*a*b))\n",
    "print(cosC,math.acos(cosC))"
   ]
  },
  {
   "cell_type": "code",
   "execution_count": 48,
   "metadata": {},
   "outputs": [
    {
     "data": {
      "text/plain": [
       "0.8775825618903728"
      ]
     },
     "execution_count": 48,
     "metadata": {},
     "output_type": "execute_result"
    }
   ],
   "source": [
    "math.cos(0.5)"
   ]
  },
  {
   "cell_type": "code",
   "execution_count": 4,
   "metadata": {},
   "outputs": [
    {
     "ename": "SyntaxError",
     "evalue": "invalid syntax (<ipython-input-4-9c879a0c8990>, line 1)",
     "output_type": "error",
     "traceback": [
      "\u001b[0;36m  File \u001b[0;32m\"<ipython-input-4-9c879a0c8990>\"\u001b[0;36m, line \u001b[0;32m1\u001b[0m\n\u001b[0;31m    distance = min(distance) for i in range(10) min(distance)\u001b[0m\n\u001b[0m                             ^\u001b[0m\n\u001b[0;31mSyntaxError\u001b[0m\u001b[0;31m:\u001b[0m invalid syntax\n"
     ]
    }
   ],
   "source": [
    "distance = min(distance) for i in range(10) min(distance)"
   ]
  },
  {
   "cell_type": "code",
   "execution_count": null,
   "metadata": {},
   "outputs": [],
   "source": []
  },
  {
   "cell_type": "code",
   "execution_count": 1,
   "metadata": {},
   "outputs": [
    {
     "ename": "NameError",
     "evalue": "name 'boxes' is not defined",
     "output_type": "error",
     "traceback": [
      "\u001b[0;31m---------------------------------------------------------------------------\u001b[0m",
      "\u001b[0;31mNameError\u001b[0m                                 Traceback (most recent call last)",
      "\u001b[0;32m<ipython-input-1-a230fb599846>\u001b[0m in \u001b[0;36m<module>\u001b[0;34m\u001b[0m\n\u001b[0;32m----> 1\u001b[0;31m \u001b[0md1\u001b[0m \u001b[0;34m=\u001b[0m \u001b[0mboxes\u001b[0m\u001b[0;34m[\u001b[0m\u001b[0;36m0\u001b[0m\u001b[0;34m]\u001b[0m\u001b[0;34m[\u001b[0m\u001b[0;36m5\u001b[0m\u001b[0;34m]\u001b[0m \u001b[0;32mif\u001b[0m \u001b[0mboxes\u001b[0m\u001b[0;34m[\u001b[0m\u001b[0;36m0\u001b[0m\u001b[0;34m]\u001b[0m\u001b[0;34m[\u001b[0m\u001b[0;36m5\u001b[0m\u001b[0;34m]\u001b[0m \u001b[0;34m<\u001b[0m \u001b[0mboxes\u001b[0m\u001b[0;34m[\u001b[0m\u001b[0;36m1\u001b[0m\u001b[0;34m]\u001b[0m\u001b[0;34m[\u001b[0m\u001b[0;36m5\u001b[0m\u001b[0;34m]\u001b[0m \u001b[0;32melse\u001b[0m \u001b[0mboxes\u001b[0m\u001b[0;34m[\u001b[0m\u001b[0;36m1\u001b[0m\u001b[0;34m]\u001b[0m\u001b[0;34m[\u001b[0m\u001b[0;36m5\u001b[0m\u001b[0;34m]\u001b[0m\u001b[0;34m\u001b[0m\u001b[0;34m\u001b[0m\u001b[0m\n\u001b[0m",
      "\u001b[0;31mNameError\u001b[0m: name 'boxes' is not defined"
     ]
    }
   ],
   "source": [
    "d1 = boxes[0][5] if boxes[0][5] < boxes[1][5] else boxes[1][5]"
   ]
  },
  {
   "cell_type": "code",
   "execution_count": null,
   "metadata": {},
   "outputs": [],
   "source": [
    "(\n",
    "    (\n",
    "        int(boxes[0][1]+boxes[0][3]/2+ boxes[1][1]+boxes[1][3]/2)/2),\n",
    "     boxes[0][2]+int(boxes[0][4]/2\n",
    "                    )\n",
    "),"
   ]
  },
  {
   "cell_type": "code",
   "execution_count": 5,
   "metadata": {},
   "outputs": [
    {
     "data": {
      "text/plain": [
       "10"
      ]
     },
     "execution_count": 5,
     "metadata": {},
     "output_type": "execute_result"
    }
   ],
   "source": [
    "\n",
    "d1=10\n",
    "d2=11\n",
    "min(d1,d2)\n"
   ]
  },
  {
   "cell_type": "code",
   "execution_count": 30,
   "metadata": {},
   "outputs": [
    {
     "data": {
      "text/plain": [
       "180.0"
      ]
     },
     "execution_count": 30,
     "metadata": {},
     "output_type": "execute_result"
    }
   ],
   "source": [
    "import numpy as np\n",
    "math.acos(-1)*180/np.pi"
   ]
  },
  {
   "cell_type": "code",
   "execution_count": 20,
   "metadata": {},
   "outputs": [
    {
     "data": {
      "text/plain": [
       "0.1415394733244273"
      ]
     },
     "execution_count": 20,
     "metadata": {},
     "output_type": "execute_result"
    }
   ],
   "source": [
    "import math\n",
    "math.acos(0.99/1)"
   ]
  },
  {
   "cell_type": "code",
   "execution_count": null,
   "metadata": {},
   "outputs": [],
   "source": []
  },
  {
   "cell_type": "code",
   "execution_count": null,
   "metadata": {},
   "outputs": [],
   "source": [
    "                                for i in range(len(boxes)):\n",
    "                                    for j in range(i+1,len(boxes)):\n",
    "                            # pix_distance between two objects\n",
    "#                             horizontal_distance = np.abs(boxes[1][1]-boxes[0][1])\n",
    "                                        horizontal_distance = np.abs(boxes[j][1]-boxes[i][-3]) if np.abs(boxes[j][1]-boxes[i][-3]) < np.abs(boxes[i][1]-boxes[j][-3]) else np.abs(boxes[i][1]-boxes[j][-3])\n",
    "                                        shrink_  = boxes[i][-1] if boxes[i][-1] < boxes[j][-1] else boxes[j][-1]\n",
    "            #                             print(KNOWN_WIDTH_ALL[0][1],box_width,shrink,shrink_)\n",
    "                                        # convert inches to cm\n",
    "                                        real_horizontal_distance = horizontal_distance * shrink_ * 30.48 / 12\n",
    "            #                             line_start_x = boxes[0][-3] if boxes[0][-3] > boxes[0][1] else boxes[0][1]\n",
    "                                        line_start_x = boxes[i][-3] if boxes[i][-3] < boxes[j][1] else boxes[j][1]\n",
    "            #                             line_end_x = boxes[1][1] if boxes[1][1] < boxes[1][-3] else boxes[1][-3]\n",
    "                                        line_end_x = boxes[j][1] if boxes[j][1] > boxes[i][-3] else boxes[j][-3]\n",
    "                                        print(line_start_x,line_end_x)\n",
    "                                        if real_horizontal_distance > 0:\n",
    "            #                                 print(boxes[0])\n",
    "            #                                 print(boxes[0][-3],boxes[1][2])\n",
    "                                            cv2.line(frame,(line_start_x,boxes[i][-2]-150),(line_end_x,boxes[i][-2]-150),(0,0,200),2)\n",
    "                                            cv2.putText(frame,'%.2f cm' % real_horizontal_distance,\n",
    "                                        (line_start_x,boxes[i][-2]-160), cv2.FONT_HERSHEY_SIMPLEX,\n",
    "                                                     1.0,(0,0,200),2)"
   ]
  },
  {
   "cell_type": "code",
   "execution_count": null,
   "metadata": {},
   "outputs": [],
   "source": [
    "                                    horizontal_distance = np.abs(boxes[1][1]-boxes[0][-3]) if np.abs(boxes[1][1]-boxes[0][-3]) < np.abs(boxes[0][1]-boxes[1][-3]) else np.abs(boxes[0][1]-boxes[1][-3])\n",
    "                                    shrink_  = boxes[0][-1] if boxes[0][-1] < boxes[1][-1] else boxes[1][-1]\n",
    "        #                             print(KNOWN_WIDTH_ALL[0][1],box_width,shrink,shrink_)\n",
    "                                    # convert inches to cm\n",
    "                                    real_horizontal_distance = horizontal_distance * shrink_ * 30.48 / 12\n",
    "        #                             line_start_x = boxes[0][-3] if boxes[0][-3] > boxes[0][1] else boxes[0][1]\n",
    "                                    line_start_x = boxes[0][-3] if boxes[0][-3] < boxes[1][1] else boxes[0][1]\n",
    "        #                             line_end_x = boxes[1][1] if boxes[1][1] < boxes[1][-3] else boxes[1][-3]\n",
    "                                    line_end_x = boxes[1][1] if boxes[1][1] > boxes[0][-3] else boxes[1][-3]\n",
    "                                    print(line_start_x,line_end_x)\n",
    "                                    if real_horizontal_distance > 0:\n",
    "        #                                 print(boxes[0])\n",
    "        #                                 print(boxes[0][-3],boxes[1][2])\n",
    "                                        cv2.line(frame,(line_start_x,boxes[0][-2]-150),(line_end_x,boxes[0][-2]-150),(0,0,200),2)\n",
    "                                        cv2.putText(frame,'%.2f cm' % real_horizontal_distance,\n",
    "                                    (line_start_x,boxes[0][-2]-160), cv2.FONT_HERSHEY_SIMPLEX,\n",
    "                                                 1.0,(0,0,200),2)"
   ]
  },
  {
   "cell_type": "code",
   "execution_count": null,
   "metadata": {},
   "outputs": [],
   "source": []
  },
  {
   "cell_type": "code",
   "execution_count": 39,
   "metadata": {},
   "outputs": [
    {
     "data": {
      "text/plain": [
       "3.141592653589793"
      ]
     },
     "execution_count": 39,
     "metadata": {},
     "output_type": "execute_result"
    }
   ],
   "source": [
    "math.pi"
   ]
  },
  {
   "cell_type": "code",
   "execution_count": 38,
   "metadata": {},
   "outputs": [
    {
     "data": {
      "text/plain": [
       "3.141592653589793"
      ]
     },
     "execution_count": 38,
     "metadata": {},
     "output_type": "execute_result"
    }
   ],
   "source": [
    "np.pi"
   ]
  },
  {
   "cell_type": "code",
   "execution_count": 43,
   "metadata": {},
   "outputs": [
    {
     "data": {
      "text/plain": [
       "-1.0"
      ]
     },
     "execution_count": 43,
     "metadata": {},
     "output_type": "execute_result"
    }
   ],
   "source": [
    "math.cos(180*math.pi/180)"
   ]
  },
  {
   "cell_type": "code",
   "execution_count": null,
   "metadata": {},
   "outputs": [],
   "source": []
  },
  {
   "cell_type": "code",
   "execution_count": 33,
   "metadata": {},
   "outputs": [
    {
     "ename": "ModuleNotFoundError",
     "evalue": "No module named 'caffe'",
     "output_type": "error",
     "traceback": [
      "\u001b[0;31m---------------------------------------------------------------------------\u001b[0m",
      "\u001b[0;31mModuleNotFoundError\u001b[0m                       Traceback (most recent call last)",
      "\u001b[0;32m<ipython-input-33-c40fdca6b3a8>\u001b[0m in \u001b[0;36m<module>\u001b[0;34m\u001b[0m\n\u001b[0;32m----> 1\u001b[0;31m \u001b[0;32mimport\u001b[0m \u001b[0mcaffe\u001b[0m\u001b[0;34m\u001b[0m\u001b[0;34m\u001b[0m\u001b[0m\n\u001b[0m\u001b[1;32m      2\u001b[0m \u001b[0;32mimport\u001b[0m \u001b[0mcv2\u001b[0m\u001b[0;34m\u001b[0m\u001b[0;34m\u001b[0m\u001b[0m\n\u001b[1;32m      3\u001b[0m \u001b[0;34m\u001b[0m\u001b[0m\n\u001b[1;32m      4\u001b[0m \u001b[0mdeploy\u001b[0m \u001b[0;34m=\u001b[0m \u001b[0;34m'./deploy.prototxt'\u001b[0m\u001b[0;34m\u001b[0m\u001b[0;34m\u001b[0m\u001b[0m\n\u001b[1;32m      5\u001b[0m \u001b[0mmodel\u001b[0m \u001b[0;34m=\u001b[0m \u001b[0;34m'model.caffemodel'\u001b[0m\u001b[0;34m\u001b[0m\u001b[0;34m\u001b[0m\u001b[0m\n",
      "\u001b[0;31mModuleNotFoundError\u001b[0m: No module named 'caffe'"
     ]
    }
   ],
   "source": [
    "import caffe\n",
    "import cv2\n",
    "\n",
    "deploy = './deploy.prototxt'\n",
    "model = 'model.caffemodel'\n",
    "img = np.transpose(cv2.imread('img.jpg'), (2, 0, 1))\n",
    "net = caffe.Net(deploy, model, caffe.TEST)\n",
    "net.blobs['data'].data[...] = img.reshape(1, 3, img.shape[1], img.shape[2])\n",
    "res = net.forward()"
   ]
  },
  {
   "cell_type": "code",
   "execution_count": null,
   "metadata": {},
   "outputs": [],
   "source": []
  },
  {
   "cell_type": "code",
   "execution_count": null,
   "metadata": {},
   "outputs": [],
   "source": [
    "cv2.re"
   ]
  },
  {
   "cell_type": "code",
   "execution_count": null,
   "metadata": {},
   "outputs": [],
   "source": []
  },
  {
   "cell_type": "code",
   "execution_count": null,
   "metadata": {},
   "outputs": [],
   "source": []
  },
  {
   "cell_type": "code",
   "execution_count": null,
   "metadata": {},
   "outputs": [],
   "source": []
  },
  {
   "cell_type": "code",
   "execution_count": null,
   "metadata": {},
   "outputs": [],
   "source": []
  },
  {
   "cell_type": "code",
   "execution_count": null,
   "metadata": {},
   "outputs": [],
   "source": []
  },
  {
   "cell_type": "code",
   "execution_count": null,
   "metadata": {},
   "outputs": [],
   "source": []
  }
 ],
 "metadata": {
  "kernelspec": {
   "display_name": "Python 3",
   "language": "python",
   "name": "python3"
  },
  "language_info": {
   "codemirror_mode": {
    "name": "ipython",
    "version": 3
   },
   "file_extension": ".py",
   "mimetype": "text/x-python",
   "name": "python",
   "nbconvert_exporter": "python",
   "pygments_lexer": "ipython3",
   "version": "3.8.2"
  }
 },
 "nbformat": 4,
 "nbformat_minor": 4
}
